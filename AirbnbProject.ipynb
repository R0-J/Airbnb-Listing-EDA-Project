{
 "cells": [
  {
   "cell_type": "markdown",
   "id": "a8765481",
   "metadata": {},
   "source": [
    "# Airbnb - Booking Analysis Project \n",
    "\r\n",
    "\n",
    "This project focuses on performing an exploratory data analysis (EDA) of Airbnb listings within a selected city. The goal is to examine various factors such as price, availability, location, and property type to uncover the underlying trends and patterns that influence the demand for Airbnb listings. Through this analysis, we aim to provide a comprehensive overview of the Airbnb market in the city, helping stakeholders to make informed decisions.\n"
   ]
  },
  {
   "cell_type": "markdown",
   "id": "81cdd967",
   "metadata": {},
   "source": [
    "## Importing Libraries"
   ]
  },
  {
   "cell_type": "code",
   "execution_count": null,
   "id": "87395efa",
   "metadata": {},
   "outputs": [],
   "source": [
    "import pandas as pd\n",
    "import numpy as np\n",
    "import matplotlib.pyplot as plt\n",
    "import seaborn as sns\n",
    "import folium"
   ]
  },
  {
   "cell_type": "markdown",
   "id": "d6e29ca2",
   "metadata": {},
   "source": [
    "## Loading Data"
   ]
  },
  {
   "cell_type": "code",
   "execution_count": null,
   "id": "ba73e65c",
   "metadata": {},
   "outputs": [],
   "source": [
    "df = pd.read_csv('listings4.csv')\n",
    "df.head()"
   ]
  },
  {
   "cell_type": "code",
   "execution_count": null,
   "id": "fb537b7b",
   "metadata": {},
   "outputs": [],
   "source": [
    "df.shape"
   ]
  },
  {
   "cell_type": "code",
   "execution_count": null,
   "id": "18be86e8",
   "metadata": {},
   "outputs": [],
   "source": [
    "df.info()"
   ]
  },
  {
   "cell_type": "markdown",
   "id": "d22ce959",
   "metadata": {},
   "source": [
    "## Data Cleaning"
   ]
  },
  {
   "cell_type": "markdown",
   "id": "ac24cad6-da67-4e36-a7a5-11d912ccc660",
   "metadata": {},
   "source": [
    "### 1- Locate Missing Data"
   ]
  },
  {
   "cell_type": "code",
   "execution_count": null,
   "id": "6208ff03-dedb-448c-a7de-88a3d551d9d4",
   "metadata": {},
   "outputs": [],
   "source": [
    "df.isnull().sum()"
   ]
  },
  {
   "cell_type": "markdown",
   "id": "52c11a42-418e-4364-994c-27f8a2d30ed5",
   "metadata": {},
   "source": [
    "#### 1.1 Drop the data"
   ]
  },
  {
   "cell_type": "code",
   "execution_count": null,
   "id": "81dc27a9-c834-4afb-9271-868f53838733",
   "metadata": {},
   "outputs": [],
   "source": [
    "df.drop(['id','last_review','license'], inplace =True, axis =1)\n",
    "df"
   ]
  },
  {
   "cell_type": "code",
   "execution_count": null,
   "id": "67c0aaf1-292d-4a65-8c9d-0156bc3c5c27",
   "metadata": {},
   "outputs": [],
   "source": [
    "df.isnull().sum()"
   ]
  },
  {
   "cell_type": "code",
   "execution_count": null,
   "id": "5681b380-6f2e-4786-8217-61c2f04c1850",
   "metadata": {},
   "outputs": [],
   "source": [
    "# معالجة القيم الفارغة في خاصية السعر\n",
    "# الاطلاع على العقارات التي لا تملك سعر محدد\n",
    "missing_price_rows = df[df['price'].isna()]\n",
    "missing_price_rows"
   ]
  },
  {
   "cell_type": "code",
   "execution_count": null,
   "id": "0ea136be-b415-46f2-90ad-99f94addf4a2",
   "metadata": {},
   "outputs": [],
   "source": [
    "# كل حي كم فيه عقار مجهول السعر منها  \n",
    "missing_price_per_neighborhood = missing_price_rows.groupby('neighbourhood').size().reset_index(name='Missing Price Count')\n",
    "missing_price_per_neighborhood"
   ]
  },
  {
   "cell_type": "code",
   "execution_count": null,
   "id": "095d243c-a9eb-471e-be88-f810b43d5d69",
   "metadata": {},
   "outputs": [],
   "source": [
    "# ملء القيم الفارغة في عمود السعر بمتوسط السعر لنفس الحي\n",
    "neighborhood_price_means = df.groupby('neighbourhood')['price'].mean()\n",
    "\n",
    "for neighborhood, price_mean in neighborhood_price_means.items():\n",
    "    if pd.isna(price_mean):\n",
    "        continue\n",
    "    neighborhood_rows = df['neighbourhood'] == neighborhood\n",
    "    df.loc[neighborhood_rows & df['price'].isna(), 'price'] = price_mean\n",
    "\n",
    "df.loc[73:,:]"
   ]
  },
  {
   "cell_type": "code",
   "execution_count": null,
   "id": "e16307d1-3041-471c-a9b0-fd8ce784c1a4",
   "metadata": {},
   "outputs": [],
   "source": [
    "df.isnull().sum()"
   ]
  },
  {
   "cell_type": "markdown",
   "id": "996f2b58-a650-4d01-802c-ab6b9eaf9602",
   "metadata": {},
   "source": [
    "#### 1.2 Input missing data"
   ]
  },
  {
   "cell_type": "code",
   "execution_count": null,
   "id": "93729aa5-389f-4a62-8e81-36419d34ab42",
   "metadata": {},
   "outputs": [],
   "source": [
    "df.dropna(inplace=True)\n",
    "df.isnull().sum()"
   ]
  },
  {
   "cell_type": "markdown",
   "id": "f9ff8c2a-976b-4ec7-a0ce-a1fafcde90a6",
   "metadata": {},
   "source": [
    "### 2- Check for Duplicates"
   ]
  },
  {
   "cell_type": "code",
   "execution_count": null,
   "id": "91925670-04d3-4091-a011-d6954601c368",
   "metadata": {},
   "outputs": [],
   "source": [
    "df.duplicated().sum()"
   ]
  },
  {
   "cell_type": "code",
   "execution_count": null,
   "id": "2a480d02-d914-4756-93ee-3e34d2fcc2e0",
   "metadata": {},
   "outputs": [],
   "source": [
    "df.drop_duplicates()"
   ]
  },
  {
   "cell_type": "code",
   "execution_count": null,
   "id": "a6cce9c3-da08-4fdf-82f4-7449c46048f3",
   "metadata": {},
   "outputs": [],
   "source": [
    "df.shape"
   ]
  },
  {
   "cell_type": "markdown",
   "id": "fa7ae79e-81b9-4298-aca4-cb7f189fde28",
   "metadata": {},
   "source": [
    "### 3- Detect Outliers"
   ]
  },
  {
   "cell_type": "code",
   "execution_count": null,
   "id": "861f3afa",
   "metadata": {},
   "outputs": [],
   "source": [
    "describe_data = df[['price', 'minimum_nights', 'number_of_reviews','reviews_per_month','calculated_host_listings_count','number_of_reviews_ltm']].describe()\n",
    "describe_data "
   ]
  },
  {
   "cell_type": "code",
   "execution_count": null,
   "id": "5de43308",
   "metadata": {},
   "outputs": [],
   "source": [
    "plt.figure(figsize=(15, 15))\n",
    "\n",
    "plt.subplot(3, 2, 1)\n",
    "sns.boxplot(x=df['price'])\n",
    "plt.title('Price Boxplot')\n",
    "\n",
    "plt.subplot(3, 2, 2)\n",
    "sns.boxplot(x=df['minimum_nights'])\n",
    "plt.title('Minimum Nights Boxplot')\n",
    "\n",
    "plt.subplot(3, 2, 3)\n",
    "sns.boxplot(x=df['number_of_reviews'])\n",
    "plt.title('Number of Reviews Boxplot')\n",
    "\n",
    "plt.subplot(3, 2, 4)\n",
    "sns.boxplot(x=df['reviews_per_month'])\n",
    "plt.title('Reviews Per Month Boxplot')\n",
    "\n",
    "plt.subplot(3, 2, 5)\n",
    "sns.boxplot(x=df['calculated_host_listings_count'])\n",
    "plt.title('Calculated Host Listings Count Boxplot')\n",
    "\n",
    "plt.subplot(3, 2, 6)\n",
    "sns.boxplot(x=df['number_of_reviews_ltm'])\n",
    "plt.title('Number of Reviews LTM Boxplot')\n",
    "\n",
    "plt.tight_layout()\n",
    "plt.show()"
   ]
  },
  {
   "cell_type": "code",
   "execution_count": null,
   "id": "857e48fc",
   "metadata": {},
   "outputs": [],
   "source": [
    "Q1 = describe_data.loc['25%']\n",
    "Q3 = describe_data.loc['75%']\n",
    "IQR = Q3 - Q1\n",
    "\n",
    "lower_bounds = Q1 - 1.5 * IQR\n",
    "upper_bounds = Q3 + 1.5 * IQR\n",
    "\n",
    "for column in ['price', 'minimum_nights', 'number_of_reviews','reviews_per_month','calculated_host_listings_count','number_of_reviews_ltm']:\n",
    "    df = df[(df[column] >= lower_bounds[column]) & (df[column] <= upper_bounds[column])]\n"
   ]
  },
  {
   "cell_type": "code",
   "execution_count": null,
   "id": "3c1accf6",
   "metadata": {},
   "outputs": [],
   "source": [
    "df"
   ]
  },
  {
   "cell_type": "code",
   "execution_count": null,
   "id": "0296209b-3527-4a3a-ad1e-709773e17a8a",
   "metadata": {},
   "outputs": [],
   "source": [
    "plt.figure(figsize=(15, 15))\n",
    "\n",
    "plt.subplot(3, 2, 1)\n",
    "sns.boxplot(x=df['price'])\n",
    "plt.title('Price Boxplot')\n",
    "\n",
    "plt.subplot(3, 2, 2)\n",
    "sns.boxplot(x=df['minimum_nights'])\n",
    "plt.title('Minimum Nights Boxplot')\n",
    "\n",
    "plt.subplot(3, 2, 3)\n",
    "sns.boxplot(x=df['number_of_reviews'])\n",
    "plt.title('Number of Reviews Boxplot')\n",
    "\n",
    "plt.subplot(3, 2, 4)\n",
    "sns.boxplot(x=df['reviews_per_month'])\n",
    "plt.title('Reviews Per Month Boxplot')\n",
    "\n",
    "plt.subplot(3, 2, 5)\n",
    "sns.boxplot(x=df['calculated_host_listings_count'])\n",
    "plt.title('Calculated Host Listings Count Boxplot')\n",
    "\n",
    "plt.subplot(3, 2, 6)\n",
    "sns.boxplot(x=df['number_of_reviews_ltm'])\n",
    "plt.title('Number of Reviews LTM Boxplot')\n",
    "\n",
    "plt.tight_layout()\n",
    "plt.show()"
   ]
  },
  {
   "cell_type": "markdown",
   "id": "956f7ac5-d555-4936-a80e-cb017219fd69",
   "metadata": {},
   "source": [
    "# Data analysis & visualizations "
   ]
  },
  {
   "cell_type": "markdown",
   "id": "25396087-6a8d-492b-8cf6-374dfa12fc0c",
   "metadata": {},
   "source": [
    "### Top 10 Hosts:\n",
    "By identifying hosts with the most properties, stakeholders can understand which hosts have a significant presence in the market and potentially explore collaboration opportunities."
   ]
  },
  {
   "cell_type": "code",
   "execution_count": null,
   "id": "083731b1-5ed8-4074-9f3a-49a8de76ae96",
   "metadata": {},
   "outputs": [],
   "source": [
    "top_10_hosts = df.groupby('host_id').size().reset_index(name='Number of Properties').sort_values(by='Number of Properties', ascending=False)\n",
    "top_10_hosts.head(10)"
   ]
  },
  {
   "cell_type": "markdown",
   "id": "2adf107d-ed1f-4dcd-b97b-1f06580e930b",
   "metadata": {},
   "source": [
    "### Distribution of Room Types:\n",
    "Understanding the distribution of room types allows stakeholders to gauge the diversity of accommodations available on the platform, catering to different preferences and budgets of travelers."
   ]
  },
  {
   "cell_type": "code",
   "execution_count": null,
   "id": "ad19afca-9b81-4da4-b882-584f043cc337",
   "metadata": {},
   "outputs": [],
   "source": [
    "room_type_counts = df.groupby('room_type').size().reset_index(name='Count')\n",
    "room_type_counts"
   ]
  },
  {
   "cell_type": "code",
   "execution_count": null,
   "id": "260adbca-3dd0-4858-b8e6-5312fd21dd9f",
   "metadata": {},
   "outputs": [],
   "source": [
    "plt.figure(figsize=(10, 6))\n",
    "sns.histplot(data=df, x='room_type', discrete=True)\n",
    "plt.title('Distribution of Room Types')\n",
    "plt.xlabel('Room Type')\n",
    "plt.ylabel('Count')\n",
    "plt.xticks(rotation=45)  \n",
    "plt.show()"
   ]
  },
  {
   "cell_type": "markdown",
   "id": "59ac92b7-7fac-4fed-958a-e8b6105a93a4",
   "metadata": {},
   "source": [
    "### Relationship between Room Type and Availability:\n",
    "This visualization helps stakeholders understand how the availability of different room types varies throughout the year, providing insights into seasonal demand patterns.\r\n",
    "\r\n"
   ]
  },
  {
   "cell_type": "code",
   "execution_count": null,
   "id": "d161405f-a952-4045-9894-390aed957bbb",
   "metadata": {},
   "outputs": [],
   "source": [
    "# نوع الغرفة وعدد التوافر خلال السنة\n",
    "plt.figure(figsize=(10, 6))\n",
    "sns.boxplot(data=df, x='room_type', y='availability_365')\n",
    "plt.title('Relationship between Room Type and Availability Over the Year')\n",
    "plt.xlabel('Room Type')\n",
    "plt.ylabel('Availability (365 days)')\n",
    "plt.show()"
   ]
  },
  {
   "cell_type": "markdown",
   "id": "c748fa13-9384-4ede-8531-52e0437d1341",
   "metadata": {},
   "source": [
    "##### Entire home/apt:\n",
    "It has the highest median availability, indicating that entire homes/apartments are generally more available throughout the year. Additionally, the data range between the minimum and the third quartile, suggesting variability in availability but generally long periods of availability.\n",
    "##### Private room:\n",
    "There is variability in the availability of this room type as well, but it falls somewhere between entire homes/apartments and shared rooms in terms of median availability. The maximum and minimum values indicate a diverse range of availability periods.\n",
    "##### Hotel room:\n",
    "Hotel rooms exhibit the highest median availability among all room types, suggesting that they are generally continuously available throughout the year. Some outliers indicate hotels with very long availability periods.\n",
    "##### Shared room:\n",
    "This room type has the lowest median availability among all types, but it shows significant variability in availability periods. Although generally less available, some outliers suggest availability for long periods at times.\n"
   ]
  },
  {
   "cell_type": "markdown",
   "id": "0d1c6199-37c1-4d63-902f-4389ec6c1211",
   "metadata": {},
   "source": [
    "### Average Price by Room Type:\n",
    "By comparing the average prices of different room types, stakeholders can identify which types of accommodations command higher prices and adjust their pricing strategies accordingly.\n",
    "\n"
   ]
  },
  {
   "cell_type": "code",
   "execution_count": null,
   "id": "dee1b05d-7793-4ba2-8c4d-0089e9a0dad2",
   "metadata": {},
   "outputs": [],
   "source": [
    "# متسوط السعر لكل انواع الغرف\n",
    "average_price = df['price'].mean()\n",
    "average_price"
   ]
  },
  {
   "cell_type": "code",
   "execution_count": null,
   "id": "7c3aa074-9993-4315-9b68-05e12baa9b15",
   "metadata": {},
   "outputs": [],
   "source": [
    "# تجميع البيانات بناءً على نوع الغرفة وحساب متوسط السعر وعدد التقييمات\n",
    "room_type_stats = df.groupby('room_type').agg({'price': 'mean', 'number_of_reviews': 'sum'}).reset_index()\n",
    "room_type_stats"
   ]
  },
  {
   "cell_type": "code",
   "execution_count": null,
   "id": "c30b2fff-6ff7-420f-aa21-7cd09ab5c265",
   "metadata": {},
   "outputs": [],
   "source": [
    "room_type_price = df.groupby('room_type')['price'].mean().reset_index()\n",
    "\n",
    "plt.figure(figsize=(10, 6))\n",
    "sns.barplot(data=room_type_price, y='room_type', x='price', palette='Set2')\n",
    "plt.title('Average Price by Room Type')\n",
    "plt.xlabel('Average Price')\n",
    "plt.ylabel('Room Type')\n",
    "plt.show()"
   ]
  },
  {
   "cell_type": "markdown",
   "id": "2b9b0967-be27-4c5d-9494-b8f1571afc97",
   "metadata": {},
   "source": [
    "### Room Count by Neighbourhood and Room Type:\n",
    "This analysis provides a detailed breakdown of the number of properties by room type in each neighborhood, enabling stakeholders to assess the variety of accommodations available in different areas.\n",
    "\n"
   ]
  },
  {
   "cell_type": "code",
   "execution_count": null,
   "id": "d8a8b3db-0faa-4e9d-8dcc-d45d1c5d3495",
   "metadata": {},
   "outputs": [],
   "source": [
    "# تجميع البيانات بناءً على الحي ونوع الغرف وحساب عدد الغرف لكل حالة\n",
    "room_count_by_neighbourhood_and_room_type = df.groupby(['neighbourhood', 'room_type']).size().unstack(fill_value=0).reset_index()\n",
    "room_count_by_neighbourhood_and_room_type"
   ]
  },
  {
   "cell_type": "markdown",
   "id": "659f863c-f5c3-490b-b2a3-a8e7c5c91626",
   "metadata": {},
   "source": [
    "### Average Minimum Nights:\n",
    "Knowing the average minimum nights required for booking provides insights into the booking preferences of guests and helps hosts set minimum stay policies accordingly.\n"
   ]
  },
  {
   "cell_type": "code",
   "execution_count": null,
   "id": "be009018-b4dd-40ee-9b8e-c0b74df60d5f",
   "metadata": {},
   "outputs": [],
   "source": [
    "# حساب متوسط عدد الليالي المطلوبة للحجز\n",
    "average_minimum_nights = df['minimum_nights'].mean()\n",
    "average_minimum_nights"
   ]
  },
  {
   "cell_type": "code",
   "execution_count": null,
   "id": "2acbc4de-f75d-4fbf-a071-068406289b8c",
   "metadata": {},
   "outputs": [],
   "source": [
    "night_count = df.groupby('minimum_nights').size().reset_index(name='Number of Properties')\n",
    "night_count"
   ]
  },
  {
   "cell_type": "code",
   "execution_count": null,
   "id": "0bc1f8a8-4c30-497b-8e4e-1e557b71f8ed",
   "metadata": {},
   "outputs": [],
   "source": [
    "plt.figure(figsize=(10, 6))\n",
    "plt.bar(night_count['minimum_nights'], night_count['Number of Properties'], color='skyblue')\n",
    "plt.title('Number of Properties by Minimum Nights')\n",
    "plt.xlabel('Minimum Nights')\n",
    "plt.ylabel('Number of Properties')\n",
    "plt.show()"
   ]
  },
  {
   "cell_type": "markdown",
   "id": "879dd94f-42ee-47e1-914b-59cd3f35ec36",
   "metadata": {},
   "source": [
    "### Number of Properties and Average Reviews by Neighbourhood Group:\n",
    "This scatter plot shows the relationship between the number of properties and the average reviews per month for each neighborhood group, helping stakeholders identify neighborhoods with high demand and positive guest feedback.\n",
    "\n"
   ]
  },
  {
   "cell_type": "code",
   "execution_count": null,
   "id": "15603937-c45b-4e46-a630-954891d130d2",
   "metadata": {},
   "outputs": [],
   "source": [
    "#ماهو عدد العقارات في كل مجموعة حيوية وما متوسط التقييم لهذه المجموعات خلال 12 شهر\n",
    "\n",
    "# تجميع البيانات بناءً على المجموعة الحيوية وحساب عدد العقارات في كل مجموعة\n",
    "properties_per_neighborhood_group = df.groupby('neighbourhood_group').size().reset_index(name='Number of Properties')\n",
    "\n",
    "# تجميع البيانات بناءً على المجموعة الحيوية وحساب متوسط التقييم للـ 12 شهر الأخيرة\n",
    "reviews_per_neighborhood_group = df.groupby('neighbourhood_group')['reviews_per_month'].mean().reset_index(name='Average Reviews per Month')\n",
    "\n",
    "# دمج البيانات في جدول واحد\n",
    "merged_data = pd.merge(properties_per_neighborhood_group, reviews_per_neighborhood_group, on='neighbourhood_group')\n",
    "merged_data\n"
   ]
  },
  {
   "cell_type": "code",
   "execution_count": null,
   "id": "7ed9a0ec-c00b-47c7-8171-85fd28b740e9",
   "metadata": {},
   "outputs": [],
   "source": [
    "plt.figure(figsize=(10, 6))\n",
    "sns.scatterplot(data=merged_data, x='Number of Properties', y='Average Reviews per Month', hue='neighbourhood_group', palette='Set2', s=100)\n",
    "plt.title('Number of Properties vs. Average Reviews per Month by Neighbourhood Group')\n",
    "plt.xlabel('Number of Properties')\n",
    "plt.ylabel('Average Reviews per Month')\n",
    "plt.legend(title='Neighbourhood Group', bbox_to_anchor=(1.05, 1), loc='upper left')\n",
    "plt.show()"
   ]
  },
  {
   "cell_type": "markdown",
   "id": "30b20987-3a9d-42ac-b2a4-322951b32e7d",
   "metadata": {},
   "source": [
    "Analyzing the number of properties in each neighborhood group alongside the average reviews per month provides valuable insights for stakeholders to understand the performance and desirability of different neighborhood areas on Airbnb. By leveraging this information, stakeholders can strategically allocate resources and investments, focusing on neighborhoods with high demand and positive guest feedback to maximize returns and enhance overall guest satisfaction. Additionally, identifying areas with lower review averages presents opportunities for stakeholders to address any potential issues or shortcomings, such as property maintenance or guest experience, to improve the overall quality of listings and attract more guests.\r\n",
    "\r\n",
    "\r\n",
    "\r\n",
    "\r\n",
    "\r\n"
   ]
  },
  {
   "cell_type": "markdown",
   "id": "d6a6cbed-6fc4-411f-bef7-0fbf3c99573d",
   "metadata": {},
   "source": [
    "### Highest Rated Neighbourhood Group:\n",
    "By identifying the neighborhood group with the highest average reviews per month, stakeholders can pinpoint areas with high guest satisfaction and potentially target their marketing efforts towards those neighborhoods.\n",
    "\n"
   ]
  },
  {
   "cell_type": "code",
   "execution_count": null,
   "id": "0b8d48db-a719-48f9-8d09-38b6c1732190",
   "metadata": {},
   "outputs": [],
   "source": [
    "# المجموعة الحيوية الاعلى متوسط تقييم\n",
    "\n",
    "# العثور على أعلى متوسط تقييم\n",
    "max_rating = reviews_per_neighborhood_group['Average Reviews per Month'].max()\n",
    "# العثور على اسم المجموعة الحيوية المقابل لأعلى متوسط تقييم\n",
    "highest_rated_neighborhood_group = reviews_per_neighborhood_group[reviews_per_neighborhood_group['Average Reviews per Month'] == max_rating]['neighbourhood_group']\n",
    "\n",
    "result = f\"Highest rated neighborhood group: {highest_rated_neighborhood_group.values[0]} - Rating: {max_rating}\"\n",
    "print(result)"
   ]
  },
  {
   "cell_type": "markdown",
   "id": "c6aed706-95c9-4293-b9b2-ef0472047527",
   "metadata": {},
   "source": [
    "### Average Price by Neighbourhood Group:\n",
    "Understanding the average prices across different neighborhood groups allows stakeholders to assess the affordability of accommodations in each area and tailor their offerings accordingly.\n",
    "\n"
   ]
  },
  {
   "cell_type": "code",
   "execution_count": null,
   "id": "74f2a2fb-2660-4708-b981-3ca7b84e7d19",
   "metadata": {},
   "outputs": [],
   "source": [
    "price_neighbourhood = df.groupby('neighbourhood_group')['price'].mean().reset_index()\n",
    "\n",
    "plt.figure(figsize=(12, 12))\n",
    "sns.barplot(data=price_neighbourhood, x='price', y='neighbourhood_group')\n",
    "plt.title('Average Price by Neighbourhood Group')\n",
    "plt.xlabel('Neighbourhood Group')\n",
    "plt.ylabel('Average Price')\n",
    "plt.xticks(rotation=45)  \n",
    "plt.show()"
   ]
  },
  {
   "cell_type": "markdown",
   "id": "05c4e414-a684-44e1-a3c1-75815bd9fd34",
   "metadata": {},
   "source": [
    "### Average Price by Neighbourhood Group and Room Type:\n",
    "This analysis provides insights into how prices vary across different neighborhood groups and room types, enabling stakeholders to make data-driven pricing decisions.\n",
    "\n"
   ]
  },
  {
   "cell_type": "code",
   "execution_count": null,
   "id": "9f095eb2-b952-409a-8a05-d6e7feba5e07",
   "metadata": {},
   "outputs": [],
   "source": [
    "# تجميع البيانات بناءً على مجموعة الحي ونوع الغرف وحساب متوسط السعر لكل حالة\n",
    "\n",
    "average_price_by_neighbourhood_group_and_room_type = df.groupby(['neighbourhood_group', 'room_type'])['price'].mean().unstack().reset_index()\n",
    "average_price_by_neighbourhood_group_and_room_type"
   ]
  },
  {
   "cell_type": "markdown",
   "id": "a7bfed49-a86b-4e5b-ac0b-16fb72a68668",
   "metadata": {},
   "source": [
    "### Distribution of Booking Prices Over the Year:\n",
    "This histogram illustrates the distribution of booking prices, helping stakeholders understand the range of prices offered on the platform and identify any pricing trends.\n",
    "\n"
   ]
  },
  {
   "cell_type": "code",
   "execution_count": null,
   "id": "d52928b0-4a5b-4e0b-973c-9159b3158764",
   "metadata": {},
   "outputs": [],
   "source": [
    "# توزيع أسعار الحجوزات على مدار السنة\n",
    "plt.figure(figsize=(12, 6))\n",
    "sns.histplot(data=df, x='price', bins=30, kde=True)\n",
    "plt.title('Distribution of Booking Prices Over the Year')\n",
    "plt.xlabel('Price')\n",
    "plt.ylabel('Frequency')\n",
    "plt.show()"
   ]
  },
  {
   "cell_type": "markdown",
   "id": "aa696560-e4d5-4ba8-b0c0-35181965a355",
   "metadata": {},
   "source": [
    "# Note:\n",
    "الكود هذا يعرض خريطة وتوزيع العقارات في المدينة - لم اقم بتشغيل الكود لانه يزيد من حجم النوت بوك إلى 35 قيقا بايت"
   ]
  },
  {
   "cell_type": "markdown",
   "id": "416661b8-689a-4937-a44d-eb77a80074cd",
   "metadata": {},
   "source": [
    "## To try the code first install this library:\n",
    "pip install folium\n"
   ]
  },
  {
   "cell_type": "markdown",
   "id": "d6f2550b-8c3d-44bb-a7e8-f0740461e733",
   "metadata": {},
   "source": [
    "### Interactive Map of Airbnb Listings:\n",
    "The interactive map provides a visual representation of Airbnb listings in the city, allowing stakeholders to explore the geographical distribution of properties and assess their proximity to amenities and attractions.\n",
    "\n"
   ]
  },
  {
   "cell_type": "code",
   "execution_count": null,
   "id": "69865e70-0be0-44c7-9da9-b948bc3bf8ea",
   "metadata": {
    "scrolled": true
   },
   "outputs": [],
   "source": [
    "map_airbnb = folium.Map(location=[df['latitude'].mean(), df['longitude'].mean()], zoom_start=10)\n",
    "\n",
    "# إضافة نقاط العقارات إلى الخريطة مع تلوينها حسب السعر\n",
    "for index, row in df.iterrows():\n",
    "    folium.CircleMarker(location=[row['latitude'], row['longitude']],\n",
    "                        radius=5,\n",
    "                        popup=f\"Price: {row['price']}$\",\n",
    "                        fill=True,\n",
    "                        fill_color='blue' if row['price'] < 100 else 'red',  # تلوين النقاط حسب السعر\n",
    "                        color='grey',\n",
    "                        fill_opacity=0.7).add_to(map_airbnb)\n",
    "\n",
    "# عرض الخريطة\n",
    "map_airbnb"
   ]
  },
  {
   "cell_type": "markdown",
   "id": "bbbcf925-89a8-47ed-99cb-c446c33de940",
   "metadata": {},
   "source": [
    "# Recommendation for stakeholders:\n",
    "\n"
   ]
  },
  {
   "cell_type": "markdown",
   "id": "35cd4e35-dee1-4d87-b9b1-daaba1682853",
   "metadata": {},
   "source": [
    "Learn from the success stories! Utilize the top 10 hosts in Airbnb to understand successful operational patterns and identify ways to enhance your offerings and pricing strategies. Use this knowledge to build a successful strategy and enter the market with confidence and success.\n",
    "\n",
    "Based on the data analysis, I recommend the following to stakeholders:\n",
    "\n",
    "Diversify Accommodation Options: Given that \"Entire home/apartment\" and \"Private room\" are the most common room types, it's essential to maintain a diverse range of accommodation options to attract a wider audience of travelers with different preferences.\n",
    "Improve Hotel Room Offerings: While \"Hotel room\" listings are relatively fewer in number, there's potential to enhance their appeal by offering unique amenities or special experiences to attract guests seeking a hotel-like experience.\n",
    "Enhance Visibility of Shared Rooms: Although \"Shared room\" listings are less common, stakeholders can focus on promoting these listings to budget-conscious travelers or those seeking a communal living experience, thereby increasing their visibility and bookings."
   ]
  },
  {
   "cell_type": "markdown",
   "id": "8d313503-f7cf-49b8-94ea-5203b5403d14",
   "metadata": {},
   "source": [
    "\n",
    "Based on the box plot visualization illustrating the relationship between room type and availability throughout the year, I recommend the following insights:\n",
    "\n",
    "#### Diversify Room Offerings:\n",
    "Stakeholders should consider diversifying their room offerings to accommodate varying levels of availability. For instance, while Entire home/apt and Private room types generally exhibit higher availability (with median values of 170 and 250 days respectively), Hotel room and Shared room types tend to have lower availability (with median values of 180 and 310 days respectively). By offering a mix of room types, hosts can attract a wider range of guests and optimize occupancy rates throughout the year.\n",
    "\n",
    "#### Optimize Pricing Strategies:\n",
    "Understanding the distribution of availability across different room types can help stakeholders optimize pricing strategies. For room types with consistently high availability (e.g., Entire home/apt), stakeholders may consider implementing dynamic pricing models to adjust rates based on demand and maximize revenue during peak seasons. Conversely, for room types with limited availability (e.g., Hotel room), offering promotional discounts during off-peak periods can help stimulate demand and increase bookings.\n",
    "\n",
    "#### Enhance Marketing Efforts:\n",
    "Stakeholders can leverage insights from room availability data to tailor marketing campaigns and promotions effectively. By highlighting the availability of specific room types during peak travel seasons or special events, hosts can attract potential guests seeking accommodation options that align with their preferences and travel plans.\n"
   ]
  },
  {
   "cell_type": "markdown",
   "id": "bd3b4ffd-971b-44a9-a170-f0392b77178b",
   "metadata": {},
   "source": [
    "\n",
    "Based on the analysis of the average price by room type, it's evident that Entire home/apt has the highest average price (257.034436), followed by Hotel room (248.983686), Private room (130.549311), and Shared room (72.988095). This insight suggests an opportunity for stakeholders to optimize their pricing strategy according to room type. To capitalize on this, consider implementing differential pricing strategies tailored to each room type to maximize revenue potential. Additionally, conduct regular market analysis to stay informed about pricing trends and adjust pricing strategies accordingly. By optimizing pricing strategies based on room type dynamics, stakeholders can enhance revenue generation and maintain competitiveness in the Airbnb market.\n",
    "\n",
    "By aggregating data based on neighborhood and room type and calculating the number of rooms for each case, stakeholders gain valuable insights into the distribution of accommodation options across different neighborhoods and room types. This information can be leveraged to identify popular room types in specific neighborhoods, allowing stakeholders to tailor their marketing strategies and property investments accordingly. Additionally, understanding the demand for different room types in various neighborhoods can inform decisions related to pricing, property management, and expansion strategies. Therefore, stakeholders are advised to regularly analyze this data to optimize their offerings and maximize profitability in the Airbnb market.\n"
   ]
  },
  {
   "cell_type": "markdown",
   "id": "75c08116-b5a1-4bc4-93c6-653a71a5773b",
   "metadata": {},
   "source": [
    "\n",
    "Analyzing the average minimum nights required for booking provides stakeholders with valuable insights into booking preferences and expectations of Airbnb guests. This information can guide hosts and property managers in setting appropriate minimum night requirements for their listings to attract more bookings while meeting guest expectations. Moreover, understanding the average minimum nights can help stakeholders adjust their pricing strategies and promotional efforts to optimize occupancy rates and enhance the overall guest experience. Therefore, stakeholders are encouraged to utilize this data to tailor their listing policies and improve their competitiveness in the Airbnb market.\n",
    "\n",
    "Understanding the distribution of minimum nights required for booking is crucial for stakeholders to adapt their listing policies and meet the diverse needs of Airbnb guests. With a significant portion of properties requiring either 1 or 2 minimum nights, stakeholders should consider offering flexible booking options to attract short-term guests looking for quick getaways. Additionally, while properties with longer minimum night requirements may appeal to guests seeking extended stays, stakeholders should carefully balance these requirements to avoid potential booking limitations. By analyzing and adjusting minimum night requirements based on guest preferences and market demand, stakeholders can optimize their property occupancy and enhance the overall guest experience.\n"
   ]
  },
  {
   "cell_type": "markdown",
   "id": "ac7256f6-7a2f-4c44-b107-f939b6decbae",
   "metadata": {},
   "source": [
    "\n",
    "Identifying the neighborhood group with the highest average reviews per month provides valuable insights into areas with exceptional guest satisfaction. Given the output indicating that the South Waikato District has the highest average reviews per month, stakeholders should prioritize investing in this area to capitalize on its positive reputation and guest satisfaction. They can consider expanding their property listings, improving amenities and services, and implementing targeted marketing strategies to attract more guests to this highly-rated neighborhood group. By focusing efforts on areas with proven high satisfaction rates, stakeholders can enhance their competitiveness on the Airbnb platform and drive sustained growth and success in the market.\n",
    "\n",
    "In light of the distinct pricing dynamics observed across different neighborhood groups, stakeholders are advised to adopt tailored pricing strategies to optimize their market competitiveness and revenue potential.\n",
    "\n",
    "For properties situated in Queenstown-Lakes District, characterized by the highest average price, stakeholders may benefit from emphasizing premium amenities and services to align with the upscale nature of the market. This approach enables them to justify higher rates and cater to the expectations of discerning guests seeking luxury accommodations.\n",
    "\n",
    "Conversely, in Kawerau District, where the average price is notably lower, stakeholders are encouraged to focus on offering cost-effective options and targeted promotions to appeal to budget-conscious travelers. By leveraging competitive pricing strategies in this market segment, stakeholders can attract a broader range of guests and maximize occupancy rates.\n",
    "\n",
    "Ultimately, by aligning pricing strategies with the prevailing average prices in each neighborhood group, stakeholders can enhance their market position, drive demand, and optimize revenue generation in their respective markets.\n"
   ]
  }
 ],
 "metadata": {
  "kernelspec": {
   "display_name": "Python 3 (ipykernel)",
   "language": "python",
   "name": "python3"
  },
  "language_info": {
   "codemirror_mode": {
    "name": "ipython",
    "version": 3
   },
   "file_extension": ".py",
   "mimetype": "text/x-python",
   "name": "python",
   "nbconvert_exporter": "python",
   "pygments_lexer": "ipython3",
   "version": "3.11.7"
  }
 },
 "nbformat": 4,
 "nbformat_minor": 5
}
